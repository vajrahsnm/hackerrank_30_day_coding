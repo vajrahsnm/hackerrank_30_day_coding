{
 "cells": [
  {
   "cell_type": "markdown",
   "id": "5d13379b",
   "metadata": {},
   "source": [
    "## Day 0 Hello, World"
   ]
  },
  {
   "cell_type": "markdown",
   "id": "df16b4db",
   "metadata": {},
   "source": [
    "**Input Format**\n",
    "A single line of text denoting  (the variable whose contents must be printed).\n",
    "\n",
    "**Output Format**\n",
    "Print Hello, World. on the first line, and the contents of  on the second line.\n",
    "\n",
    "**Sample Input**\n",
    "Welcome to 30 Days of Code!\n",
    "\n",
    "**Sample Output**\n",
    "Hello, World. \n",
    "Welcome to 30 Days of Code!\n",
    "\n",
    "**Explanation**\n",
    "On the first line, we print the string literal Hello, World.. On the second line, we print the contents of the  variable which, for this sample case, happens to be Welcome to 30 Days of Code!. If you do not print the variable's contents to stdout, you will not pass the hidden test case."
   ]
  },
  {
   "cell_type": "code",
   "execution_count": 4,
   "id": "25cc5677",
   "metadata": {},
   "outputs": [
    {
     "name": "stdout",
     "output_type": "stream",
     "text": [
      "Welcome to coding \n",
      "Hello, World.\n",
      "Welcome to coding \n"
     ]
    }
   ],
   "source": [
    "# Read a full line of input from stdin and save it to our dynamically typed variable, input_string.\n",
    "input_string = input()\n",
    "\n",
    "# Print a string literal saying \"Hello, World.\" to stdout.\n",
    "print('Hello, World.')\n",
    "print(input_string)\n",
    "# TODO: Write a line of code here that prints the contents of input_string to stdout."
   ]
  },
  {
   "cell_type": "markdown",
   "id": "3656578a",
   "metadata": {},
   "source": [
    "## Day 1 Data Types"
   ]
  },
  {
   "cell_type": "markdown",
   "id": "eea99269",
   "metadata": {},
   "source": [
    "**Input Format**\n",
    "The first line contains an integer that you must sum with i.\n",
    "The second line contains a double that you must sum with d.\n",
    "The third line contains a string that you must concatenate with s.\n",
    "\n",
    "**Output Format**\n",
    "Print the sum of both integers on the first line, the sum of both doubles (scaled to 1 decimal place) on the second line, and then the two concatenated strings on the third line.\n",
    "\n",
    "**Sample Input**\n",
    "12\n",
    "4.0\n",
    "is the best place to learn and practice coding!\n",
    "\n",
    "**Sample Output**\n",
    "16\n",
    "8.0\n",
    "HackerRank is the best place to learn and practice coding!\n",
    "\n",
    "**Explanation**\n",
    "When we sum the integers 4 and 12, we get the integer 16.\n",
    "When we sum the floating-point numbers 4.0 and 4.0, we get 8.0.\n",
    "When we concatenate HackerRank with is the best place to learn and practice coding!, we get HackerRank is the best place to learn and practice coding!."
   ]
  },
  {
   "cell_type": "code",
   "execution_count": 5,
   "id": "51919170",
   "metadata": {},
   "outputs": [
    {
     "name": "stdout",
     "output_type": "stream",
     "text": [
      "4\n",
      ".0\n",
      "coding challenge\n",
      "8\n",
      "4.0\n",
      "HackerRank coding challenge\n"
     ]
    }
   ],
   "source": [
    "i = 4\n",
    "d = 4.0\n",
    "s = 'HackerRank '\n",
    "# Declare second integer, double, and String variables.\n",
    "\n",
    "# Read and save an integer, double, and String to your variables.\n",
    "\n",
    "# Print the sum of both integer variables on a new line.\n",
    "\n",
    "# Print the sum of the double variables on a new line.\n",
    "\n",
    "# Concatenate and print the String variables on a new line\n",
    "# The 's' variable above should be printed first.\n",
    "d=4.0\n",
    "s=\"HackerRank\"\n",
    "int_input=int(input())\n",
    "double_input=float(input())\n",
    "string_input=input()\n",
    "i+=int_input\n",
    "d+=double_input\n",
    "s+=\" \"+string_input\n",
    "print(i)\n",
    "print(d)\n",
    "print(s)"
   ]
  },
  {
   "cell_type": "markdown",
   "id": "c9b78e86",
   "metadata": {},
   "source": [
    "## Day 2 Operators"
   ]
  },
  {
   "cell_type": "markdown",
   "id": "8a7aa68b",
   "metadata": {},
   "source": [
    "**Input Format**\n",
    "There are  lines of numeric input:\n",
    "The first line has a double, meal_cost(the cost of the meal before tax and tip).\n",
    "The second line has an integer, tip_cost(the percentage of  being added as tip).\n",
    "The third line has an integer, tax_cost (the percentage of  being added as tax).\n",
    "\n",
    "**Sample Input**\n",
    "12.00\n",
    "20\n",
    "8\n",
    "\n",
    "**Sample Output**\n",
    "15\n",
    "\n",
    "**Explanation**\n",
    "\n",
    "Given:\n",
    "meal_cost=12\n",
    "tip_cost=2.4\n",
    "tax_cost=0.96\n",
    "Calculations:\n",
    "\n",
    "total_cost=meal_cost  +tip_cost  +tax_cost\n",
    "We round  to the nearest integer and print the result, ."
   ]
  },
  {
   "cell_type": "code",
   "execution_count": 1,
   "id": "eb8ef343",
   "metadata": {},
   "outputs": [
    {
     "name": "stdout",
     "output_type": "stream",
     "text": [
      "12\n",
      "20\n",
      "8\n",
      "15\n"
     ]
    }
   ],
   "source": [
    "#!/bin/python3\n",
    "\n",
    "import math\n",
    "import os\n",
    "import random\n",
    "import re\n",
    "import sys\n",
    "\n",
    "#\n",
    "# Complete the 'solve' function below.\n",
    "#\n",
    "# The function accepts following parameters:\n",
    "#  1. DOUBLE meal_cost\n",
    "#  2. INTEGER tip_percent\n",
    "#  3. INTEGER tax_percent\n",
    "#\n",
    "\n",
    "def solve(meal_cost, tip_percent, tax_percent):\n",
    "    tip_percent=(meal_cost/100)*tip_percent\n",
    "    tax_percent=(meal_cost/100)*tax_percent\n",
    "    meal_cost=meal_cost+tip_percent+tax_percent\n",
    "    print(round(meal_cost))\n",
    "    \n",
    "\n",
    "if __name__ == '__main__':\n",
    "    meal_cost = float(input().strip())\n",
    "    tip_percent = int(input().strip())\n",
    "    tax_percent = int(input().strip())\n",
    "\n",
    "    solve(meal_cost, tip_percent, tax_percent)"
   ]
  },
  {
   "cell_type": "markdown",
   "id": "8f65b0e5",
   "metadata": {},
   "source": [
    "## Day 3 Itro to Conditional Statement"
   ]
  },
  {
   "cell_type": "markdown",
   "id": "87a8d603",
   "metadata": {},
   "source": [
    "**Input Format**\n",
    "A single line containing a positive integer, .\n",
    "\n",
    "**Output Format**\n",
    "Print Weird if the number is weird; otherwise, print Not Weird.\n",
    "\n",
    "**Sample Input**\n",
    "24\n",
    "\n",
    "**Sample Output**\n",
    "Not Weird\n",
    "\n",
    "**Explanation**\n",
    "compare number within range and print even or odd number"
   ]
  },
  {
   "cell_type": "code",
   "execution_count": 3,
   "id": "1f055899",
   "metadata": {},
   "outputs": [
    {
     "name": "stdout",
     "output_type": "stream",
     "text": [
      "12\n",
      "Weird\n"
     ]
    }
   ],
   "source": [
    "#!/bin/python3\n",
    "\n",
    "import math\n",
    "import os\n",
    "import random\n",
    "import re\n",
    "import sys\n",
    "\n",
    "\n",
    "\n",
    "if __name__ == '__main__':\n",
    "    N = int(input().strip())\n",
    "    if N%2!=0:\n",
    "        print(\"Weird\")\n",
    "    elif N%2==0:\n",
    "        if N>1 and N<6:\n",
    "            print(\"Not Weird\")\n",
    "        elif N>5 and N<21:\n",
    "            print(\"Weird\")\n",
    "        elif N>20:\\\n",
    "            print(\"Not Weird\")"
   ]
  }
 ],
 "metadata": {
  "kernelspec": {
   "display_name": "Python 3",
   "language": "python",
   "name": "python3"
  },
  "language_info": {
   "codemirror_mode": {
    "name": "ipython",
    "version": 3
   },
   "file_extension": ".py",
   "mimetype": "text/x-python",
   "name": "python",
   "nbconvert_exporter": "python",
   "pygments_lexer": "ipython3",
   "version": "3.8.8"
  }
 },
 "nbformat": 4,
 "nbformat_minor": 5
}
